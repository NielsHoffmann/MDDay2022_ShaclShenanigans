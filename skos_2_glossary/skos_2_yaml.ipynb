{
 "cells": [
  {
   "cell_type": "markdown",
   "id": "ac1dcf92",
   "metadata": {},
   "source": [
    "# Notebook to transform SKOS Vocabulary to Datahub Business Glossary yaml format.\n",
    "Requires: rdflib, yaml\n",
    "\n",
    "This example is self contained, it loads a turtle file from the project. You can just as easy perform the query against a sparql endpoint."
   ]
  },
  {
   "cell_type": "code",
   "execution_count": 1,
   "id": "1e46a600-002e-43c6-b6b6-4897a2ae9826",
   "metadata": {},
   "outputs": [],
   "source": [
    "import rdflib\n",
    "import yaml"
   ]
  },
  {
   "cell_type": "code",
   "execution_count": 2,
   "id": "09a0dd19-e956-4998-a182-d2bef213ffea",
   "metadata": {
    "tags": []
   },
   "outputs": [],
   "source": [
    "g = rdflib.Graph()\n",
    "g.parse(\"./ontologies/areaaldata_begrippen.ttl\")\n",
    "\n",
    "query = \"\"\"\n",
    "SELECT ?concept ?def ?prefLabel ?match ?broader ?narrower\n",
    "WHERE {\n",
    "    ?concept a skos:Concept .\n",
    "    ?concept skos:definition ?def .\n",
    "    ?concept skos:prefLabel ?prefLabel .\n",
    "    optional { ?concept skos:exactMatch ?match .}\n",
    "    optional { ?concept skos:broader ?broader .}\n",
    "    optional { ?narrower skos:broader ?concept .}\n",
    "}\"\"\"\n",
    "\n",
    "result = g.query(query)\n",
    "\n",
    "termlist = []\n",
    "\n",
    "for row in result:\n",
    "    t = {}\n",
    "    t['name'] = str(row[2])\n",
    "    t['description'] = str(row[1])\n",
    "    t['source_url'] = str(row[0])\n",
    "    if not row[3] is None:\n",
    "        t['custom_properties'] = {'skos_exact_match': str(row[3]), 'source_url': str(row[0]) }\n",
    "    else:\n",
    "        t['custom_properties'] = {'source_url': str(row[0]) }\n",
    "    if not row[4] is None:\n",
    "        t['inherits'] = [ 'Areaaldata begrippenkader.' + row[4].split('/')[-1:][0] ]\n",
    "    if not row[5] is None:\n",
    "        t['contains'] = [ 'Areaaldata begrippenkader.' + row[5].split('/')[-1:][0] ]\n",
    "    termlist.append(t)\n",
    "    "
   ]
  },
  {
   "cell_type": "code",
   "execution_count": 3,
   "id": "1a60a0cb-2bd8-426e-91c2-53b347faaad7",
   "metadata": {
    "collapsed": true,
    "jupyter": {
     "outputs_hidden": true
    },
    "tags": []
   },
   "outputs": [],
   "source": [
    "base =  {'version': 1, \n",
    "        'source': 'Datahub',\n",
    "        'owners' : { 'users': ['id/di'] },\n",
    "        'url': 'https://provincienh.github.io/OTL/otl-doc/',\n",
    "        'nodes': [{'name': 'Areaaldata begrippenkader', \n",
    "                'description': 'SKOS begrippenkader behorende bij het Areaaldata model van Provincie Noord-Holland', \n",
    "                'terms': termlist}]}\n",
    "#print(yaml.dump(base,sort_keys=False))\n",
    "ff = open('ad_glossary.yaml', 'w+')\n",
    "yaml.dump(base, ff,sort_keys=False, allow_unicode=True)"
   ]
  }
 ],
 "metadata": {
  "interpreter": {
   "hash": "7e20464a42006b66ab00590ff19383b4a34e0c36ceb7d91d6fbb914d46714e13"
  },
  "kernelspec": {
   "display_name": "Python 3.9.7 ('dbt')",
   "language": "python",
   "name": "python3"
  },
  "language_info": {
   "codemirror_mode": {
    "name": "ipython",
    "version": 3
   },
   "file_extension": ".py",
   "mimetype": "text/x-python",
   "name": "python",
   "nbconvert_exporter": "python",
   "pygments_lexer": "ipython3",
   "version": "3.9.7"
  }
 },
 "nbformat": 4,
 "nbformat_minor": 5
}
