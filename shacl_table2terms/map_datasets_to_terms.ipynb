{
 "cells": [
  {
   "cell_type": "markdown",
   "id": "fa022f65",
   "metadata": {},
   "source": [
    "# Notebook to get a list of tables from datahub and connect them to the mapped term via the shacl ontology\n",
    "\n",
    "requires: rdflib, datahub client"
   ]
  },
  {
   "cell_type": "code",
   "execution_count": 20,
   "id": "6ea9ff2b-9fb0-4a08-a171-8858de335f17",
   "metadata": {},
   "outputs": [],
   "source": [
    "from unittest import result\n",
    "from rdflib import Graph\n",
    "import logging\n",
    "\n",
    "from datahub.emitter.mce_builder import get_sys_time, make_dataset_urn, make_term_urn\n",
    "from datahub.emitter.mcp import MetadataChangeProposalWrapper\n",
    "from datahub.emitter.rest_emitter import DatahubRestEmitter\n",
    "from datahub.ingestion.graph.client import DatahubClientConfig, DataHubGraph\n",
    "import datahub.metadata.schema_classes as models\n",
    "\n",
    "# Imports for metadata model classes\n",
    "from datahub.metadata.schema_classes import (\n",
    "    AuditStampClass,\n",
    "    ChangeTypeClass,\n",
    "    GlossaryTermAssociationClass,\n",
    "    GlossaryTermsClass,\n",
    ")"
   ]
  },
  {
   "cell_type": "code",
   "execution_count": 21,
   "id": "5e7bc400-a111-47ad-af20-a3d8f57dd0cd",
   "metadata": {},
   "outputs": [],
   "source": [
    "log = logging.getLogger(__name__)\n",
    "logging.basicConfig(level=logging.INFO) \n",
    "\n",
    "gms_endpoint = \"http://localhost:8080\"\n",
    "graph = DataHubGraph(DatahubClientConfig(server=gms_endpoint))\n",
    "rest_emitter = DatahubRestEmitter(gms_server=gms_endpoint)\n"
   ]
  },
  {
   "cell_type": "code",
   "execution_count": 22,
   "id": "a8eae2f7-a442-44c0-8eb7-fea2352dada5",
   "metadata": {
    "tags": []
   },
   "outputs": [],
   "source": [
    "datasets = graph.list_all_entity_urns(entity_type='dataset', start=0, count=1000\n",
    ")\n",
    "\n",
    "filtered = filter(lambda schema: '.public' in schema, datasets)\n",
    "datasets = list(filtered)"
   ]
  },
  {
   "cell_type": "code",
   "execution_count": 23,
   "id": "83c556b7-9331-4483-8a81-acae59cdccd5",
   "metadata": {
    "collapsed": true,
    "jupyter": {
     "outputs_hidden": true
    },
    "tags": []
   },
   "outputs": [],
   "source": [
    "g = Graph()\n",
    "g.parse(\"../ontologies/areaaldata.ttl\")\n",
    "g.parse(\"../ontologies/areaaldata_begrippen.ttl\")\n",
    "g.parse(\"../ontologies/areaaldata_av.shapes.ttl\")\n",
    "\n",
    "query = \"\"\"\n",
    "SELECT ?shape ?target ?concept\n",
    "WHERE {\n",
    "    ?shape a sh:NodeShape ;\n",
    "        sh:target ?target ;\n",
    "        sh:targetClass ?targetClass .\n",
    "    ?targetClass dcterms:subject ?concept .\n",
    "    }\n",
    "\"\"\"\n",
    "\n",
    "result = g.query(query)\n",
    "\n",
    "cls_terms = {}\n",
    "for row in result:\n",
    "    cls_terms[str(row[1].lower())] = str(row[2])\n",
    "    \n",
    "#cls_terms"
   ]
  },
  {
   "cell_type": "code",
   "execution_count": 24,
   "id": "e11e90b3-f593-4c72-acea-a5dc7237493e",
   "metadata": {},
   "outputs": [],
   "source": [
    "def add_term(cls, term):\n",
    "    dataset_urn = make_dataset_urn(platform=\"postgres\", name=\"postgres.public.\" + cls, env=\"PROD\")\n",
    "\n",
    "    term_to_add = make_term_urn(\"Areaaldata begrippenkader.\" + term)\n",
    "    term_association_to_add = GlossaryTermAssociationClass(urn=term_to_add)\n",
    "    unknown_audit_stamp = AuditStampClass(time=get_sys_time(), actor=\"urn:li:corpuser:ingestion\")\n",
    "\n",
    "    # create a brand new terms aspect\n",
    "    terms_aspect = GlossaryTermsClass(\n",
    "        terms=[term_association_to_add],\n",
    "        auditStamp=unknown_audit_stamp,\n",
    "    )\n",
    "\n",
    "    event: MetadataChangeProposalWrapper = MetadataChangeProposalWrapper(\n",
    "        entityType=\"dataset\",\n",
    "        changeType=ChangeTypeClass.UPSERT,\n",
    "        entityUrn=dataset_urn,\n",
    "        aspectName=\"glossaryTerms\",\n",
    "        aspect=terms_aspect,\n",
    "        systemMetadata=models.SystemMetadataClass(runId=\"map-datasets-terms\")\n",
    "    )\n",
    "    return event, term_to_add, dataset_urn"
   ]
  },
  {
   "cell_type": "code",
   "execution_count": null,
   "id": "82763648",
   "metadata": {},
   "outputs": [],
   "source": [
    "for ds in datasets:\n",
    "        sub = ds.split(',')[1].split('.')[-1]\n",
    "        if sub in cls_terms:\n",
    "            concept = cls_terms[sub]\n",
    "            event, term_to_add, dataset_urn = add_term(sub, concept.split('/')[-1])\n",
    "        \n",
    "            rest_emitter.emit(event)\n",
    "            log.info(f\"Attached term {term_to_add} to dataset {dataset_urn}\")"
   ]
  }
 ],
 "metadata": {
  "interpreter": {
   "hash": "7e20464a42006b66ab00590ff19383b4a34e0c36ceb7d91d6fbb914d46714e13"
  },
  "kernelspec": {
   "display_name": "Python 3.9.7 ('dbt')",
   "language": "python",
   "name": "python3"
  },
  "language_info": {
   "codemirror_mode": {
    "name": "ipython",
    "version": 3
   },
   "file_extension": ".py",
   "mimetype": "text/x-python",
   "name": "python",
   "nbconvert_exporter": "python",
   "pygments_lexer": "ipython3",
   "version": "3.9.7"
  }
 },
 "nbformat": 4,
 "nbformat_minor": 5
}
