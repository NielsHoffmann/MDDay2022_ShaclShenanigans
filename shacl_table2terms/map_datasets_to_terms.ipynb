{
 "cells": [
  {
   "cell_type": "markdown",
   "id": "fa022f65",
   "metadata": {},
   "source": [
    "# Notebook to get a list of tables from datahub and connect them to the mapped term via the shacl ontology\n",
    "\n",
    "requires: rdflib, datahub client"
   ]
  },
  {
   "cell_type": "code",
   "execution_count": 1,
   "id": "6ea9ff2b-9fb0-4a08-a171-8858de335f17",
   "metadata": {},
   "outputs": [],
   "source": [
    "from unittest import result\n",
    "from rdflib import Graph\n",
    "import logging\n",
    "import pandas as pd\n",
    "\n",
    "from datahub.emitter.mce_builder import get_sys_time, make_dataset_urn, make_term_urn\n",
    "from datahub.emitter.mcp import MetadataChangeProposalWrapper\n",
    "from datahub.emitter.rest_emitter import DatahubRestEmitter\n",
    "from datahub.ingestion.graph.client import DatahubClientConfig, DataHubGraph\n",
    "import datahub.metadata.schema_classes as models\n",
    "\n",
    "# Imports for metadata model classes\n",
    "from datahub.metadata.schema_classes import (\n",
    "    AuditStampClass,\n",
    "    ChangeTypeClass,\n",
    "    GlossaryTermAssociationClass,\n",
    "    GlossaryTermsClass,\n",
    ")"
   ]
  },
  {
   "cell_type": "code",
   "execution_count": 2,
   "id": "5e7bc400-a111-47ad-af20-a3d8f57dd0cd",
   "metadata": {},
   "outputs": [],
   "source": [
    "log = logging.getLogger(__name__)\n",
    "logging.basicConfig(level=logging.INFO) \n",
    "\n",
    "gms_endpoint = \"http://localhost:8080\"\n",
    "graph = DataHubGraph(DatahubClientConfig(server=gms_endpoint))\n",
    "rest_emitter = DatahubRestEmitter(gms_server=gms_endpoint)\n"
   ]
  },
  {
   "cell_type": "code",
   "execution_count": 3,
   "id": "a8eae2f7-a442-44c0-8eb7-fea2352dada5",
   "metadata": {
    "tags": []
   },
   "outputs": [],
   "source": [
    "datasets = graph.list_all_entity_urns(entity_type='dataset', start=0, count=1000\n",
    ")\n",
    "\n",
    "filtered = filter(lambda schema: '.public' in schema, datasets)\n",
    "datasets = list(filtered)"
   ]
  },
  {
   "cell_type": "markdown",
   "id": "f9bd7c78",
   "metadata": {},
   "source": [
    "The sparql query is traversing the graph constructed from the 3 different turtle files. You can also query a sparql endpoint if available."
   ]
  },
  {
   "cell_type": "code",
   "execution_count": 4,
   "id": "83c556b7-9331-4483-8a81-acae59cdccd5",
   "metadata": {
    "collapsed": true,
    "jupyter": {
     "outputs_hidden": true
    },
    "tags": []
   },
   "outputs": [],
   "source": [
    "g = Graph()\n",
    "g.parse(\"../ontologies/areaaldata.ttl\")\n",
    "g.parse(\"../ontologies/areaaldata_begrippen.ttl\")\n",
    "g.parse(\"../ontologies/areaaldata_av.shapes.ttl\")\n",
    "\n",
    "query = \"\"\"\n",
    "SELECT ?shape ?target ?concept\n",
    "WHERE {\n",
    "    ?shape a sh:NodeShape ;\n",
    "        sh:target ?target ;\n",
    "        sh:targetClass ?targetClass .\n",
    "    ?targetClass dcterms:subject ?concept .\n",
    "    }\n",
    "\"\"\"\n",
    "\n",
    "result = g.query(query)\n",
    "\n",
    "cls_terms = {}\n",
    "for row in result:\n",
    "    cls_terms[str(row[1].lower())] = str(row[2])\n",
    "    \n",
    "#cls_terms"
   ]
  },
  {
   "cell_type": "code",
   "execution_count": 5,
   "id": "e11e90b3-f593-4c72-acea-a5dc7237493e",
   "metadata": {},
   "outputs": [],
   "source": [
    "def add_term(cls, term):\n",
    "    dataset_urn = make_dataset_urn(platform=\"postgres\", name=\"postgres.public.\" + cls, env=\"PROD\")\n",
    "\n",
    "    term_to_add = make_term_urn(\"Areaaldata begrippenkader.\" + term)\n",
    "    term_association_to_add = GlossaryTermAssociationClass(urn=term_to_add)\n",
    "    unknown_audit_stamp = AuditStampClass(time=get_sys_time(), actor=\"urn:li:corpuser:ingestion\")\n",
    "\n",
    "    # create a brand new terms aspect\n",
    "    terms_aspect = GlossaryTermsClass(\n",
    "        terms=[term_association_to_add],\n",
    "        auditStamp=unknown_audit_stamp,\n",
    "    )\n",
    "\n",
    "    event: MetadataChangeProposalWrapper = MetadataChangeProposalWrapper(\n",
    "        entityType=\"dataset\",\n",
    "        changeType=ChangeTypeClass.UPSERT,\n",
    "        entityUrn=dataset_urn,\n",
    "        aspectName=\"glossaryTerms\",\n",
    "        aspect=terms_aspect,\n",
    "        systemMetadata=models.SystemMetadataClass(runId=\"map-datasets-terms\")\n",
    "    )\n",
    "    return event, term_to_add, dataset_urn"
   ]
  },
  {
   "cell_type": "markdown",
   "id": "4e486104",
   "metadata": {},
   "source": [
    "loop through the selected datasets and look for a match in the ontology. if found map the table to term and use the python rest emitter to update datahub."
   ]
  },
  {
   "cell_type": "code",
   "execution_count": 6,
   "id": "82763648",
   "metadata": {},
   "outputs": [
    {
     "name": "stderr",
     "output_type": "stream",
     "text": [
      "INFO:__main__:Attached term urn:li:glossaryTerm:Areaaldata begrippenkader.bak to dataset urn:li:dataset:(urn:li:dataPlatform:postgres,postgres.public.av_bak_p,PROD)\n",
      "INFO:__main__:Attached term urn:li:glossaryTerm:Areaaldata begrippenkader.begroeidTerreindeel to dataset urn:li:dataset:(urn:li:dataPlatform:postgres,postgres.public.av_begroeidterreindeel_v,PROD)\n",
      "INFO:__main__:Attached term urn:li:glossaryTerm:Areaaldata begrippenkader.begroeidTerreindeelBerm to dataset urn:li:dataset:(urn:li:dataPlatform:postgres,postgres.public.av_begroeidterreindeelberm_v,PROD)\n",
      "INFO:__main__:Attached term urn:li:glossaryTerm:Areaaldata begrippenkader.begroeidTerreindeelBermKr to dataset urn:li:dataset:(urn:li:dataPlatform:postgres,postgres.public.av_begroeidterreindeelbermkr_l,PROD)\n",
      "INFO:__main__:Attached term urn:li:glossaryTerm:Areaaldata begrippenkader.begroeidTerreindeelKruin to dataset urn:li:dataset:(urn:li:dataPlatform:postgres,postgres.public.av_begroeidterreindeelkruin_l,PROD)\n",
      "INFO:__main__:Attached term urn:li:glossaryTerm:Areaaldata begrippenkader.begroeidTerreindeelPlantvak to dataset urn:li:dataset:(urn:li:dataPlatform:postgres,postgres.public.av_begroeidterreindeelplantvak_v,PROD)\n",
      "INFO:__main__:Attached term urn:li:glossaryTerm:Areaaldata begrippenkader.begroeidTerreindeelPlKr to dataset urn:li:dataset:(urn:li:dataPlatform:postgres,postgres.public.av_begroeidterreindeelplkr_l,PROD)\n",
      "INFO:__main__:Attached term urn:li:glossaryTerm:Areaaldata begrippenkader.beheergrenzen to dataset urn:li:dataset:(urn:li:dataPlatform:postgres,postgres.public.av_beheergrenzen_v,PROD)\n",
      "INFO:__main__:Attached term urn:li:glossaryTerm:Areaaldata begrippenkader.bodem to dataset urn:li:dataset:(urn:li:dataPlatform:postgres,postgres.public.av_bodem_v,PROD)\n",
      "INFO:__main__:Attached term urn:li:glossaryTerm:Areaaldata begrippenkader.bord to dataset urn:li:dataset:(urn:li:dataPlatform:postgres,postgres.public.av_bord_p,PROD)\n",
      "INFO:__main__:Attached term urn:li:glossaryTerm:Areaaldata begrippenkader.bordDRIS to dataset urn:li:dataset:(urn:li:dataPlatform:postgres,postgres.public.av_borddris_p,PROD)\n",
      "INFO:__main__:Attached term urn:li:glossaryTerm:Areaaldata begrippenkader.bordScheepvaart to dataset urn:li:dataset:(urn:li:dataPlatform:postgres,postgres.public.av_bordscheepvaart_p,PROD)\n",
      "INFO:__main__:Attached term urn:li:glossaryTerm:Areaaldata begrippenkader.bordWegwijzer to dataset urn:li:dataset:(urn:li:dataPlatform:postgres,postgres.public.av_bordwegwijzer_p,PROD)\n",
      "INFO:__main__:Attached term urn:li:glossaryTerm:Areaaldata begrippenkader.bordZwemwater to dataset urn:li:dataset:(urn:li:dataPlatform:postgres,postgres.public.av_bordzwemwater_p,PROD)\n",
      "INFO:__main__:Attached term urn:li:glossaryTerm:Areaaldata begrippenkader.buis to dataset urn:li:dataset:(urn:li:dataPlatform:postgres,postgres.public.av_buis_l,PROD)\n",
      "INFO:__main__:Attached term urn:li:glossaryTerm:Areaaldata begrippenkader.ecopassage to dataset urn:li:dataset:(urn:li:dataPlatform:postgres,postgres.public.av_ecopassage_l,PROD)\n",
      "INFO:__main__:Attached term urn:li:glossaryTerm:Areaaldata begrippenkader.electriciteitskabel to dataset urn:li:dataset:(urn:li:dataPlatform:postgres,postgres.public.av_electriciteitskabel_l,PROD)\n",
      "INFO:__main__:Attached term urn:li:glossaryTerm:Areaaldata begrippenkader.faunavoorziening to dataset urn:li:dataset:(urn:li:dataPlatform:postgres,postgres.public.av_faunavoorziening_v,PROD)\n",
      "INFO:__main__:Attached term urn:li:glossaryTerm:Areaaldata begrippenkader.fietsparkeervoorziening to dataset urn:li:dataset:(urn:li:dataPlatform:postgres,postgres.public.av_fietsparkeervoorziening_l,PROD)\n",
      "INFO:__main__:Attached term urn:li:glossaryTerm:Areaaldata begrippenkader.gebiedscontractregio to dataset urn:li:dataset:(urn:li:dataPlatform:postgres,postgres.public.av_gebiedscontractregio_v,PROD)\n",
      "INFO:__main__:Attached term urn:li:glossaryTerm:Areaaldata begrippenkader.halte to dataset urn:li:dataset:(urn:li:dataPlatform:postgres,postgres.public.av_halte_v,PROD)\n",
      "INFO:__main__:Attached term urn:li:glossaryTerm:Areaaldata begrippenkader.installatie to dataset urn:li:dataset:(urn:li:dataPlatform:postgres,postgres.public.av_installatie_p,PROD)\n",
      "INFO:__main__:Attached term urn:li:glossaryTerm:Areaaldata begrippenkader.kast to dataset urn:li:dataset:(urn:li:dataPlatform:postgres,postgres.public.av_kast_p,PROD)\n",
      "INFO:__main__:Attached term urn:li:glossaryTerm:Areaaldata begrippenkader.kastOvl to dataset urn:li:dataset:(urn:li:dataPlatform:postgres,postgres.public.av_kastovl_p,PROD)\n",
      "INFO:__main__:Attached term urn:li:glossaryTerm:Areaaldata begrippenkader.kastVri to dataset urn:li:dataset:(urn:li:dataPlatform:postgres,postgres.public.av_kastvri_p,PROD)\n",
      "INFO:__main__:Attached term urn:li:glossaryTerm:Areaaldata begrippenkader.kruispunt to dataset urn:li:dataset:(urn:li:dataPlatform:postgres,postgres.public.av_kruispunt_p,PROD)\n",
      "INFO:__main__:Attached term urn:li:glossaryTerm:Areaaldata begrippenkader.kunstwerk to dataset urn:li:dataset:(urn:li:dataPlatform:postgres,postgres.public.av_kunstwerk_p,PROD)\n",
      "INFO:__main__:Attached term urn:li:glossaryTerm:Areaaldata begrippenkader.kunstwerkdeel to dataset urn:li:dataset:(urn:li:dataPlatform:postgres,postgres.public.av_kunstwerkdeel_l,PROD)\n",
      "INFO:__main__:Attached term urn:li:glossaryTerm:Areaaldata begrippenkader.kunstwerkdeel to dataset urn:li:dataset:(urn:li:dataPlatform:postgres,postgres.public.av_kunstwerkdeel_v,PROD)\n",
      "INFO:__main__:Attached term urn:li:glossaryTerm:Areaaldata begrippenkader.lantaarn to dataset urn:li:dataset:(urn:li:dataPlatform:postgres,postgres.public.av_lantaarn_p,PROD)\n",
      "INFO:__main__:Attached term urn:li:glossaryTerm:Areaaldata begrippenkader.leidingelement to dataset urn:li:dataset:(urn:li:dataPlatform:postgres,postgres.public.av_leidingelement_p,PROD)\n",
      "INFO:__main__:Attached term urn:li:glossaryTerm:Areaaldata begrippenkader.mantelbuis to dataset urn:li:dataset:(urn:li:dataPlatform:postgres,postgres.public.av_mantelbuis_v,PROD)\n",
      "INFO:__main__:Attached term urn:li:glossaryTerm:Areaaldata begrippenkader.oevervak to dataset urn:li:dataset:(urn:li:dataPlatform:postgres,postgres.public.av_oevervak_v,PROD)\n",
      "INFO:__main__:Attached term urn:li:glossaryTerm:Areaaldata begrippenkader.onbegroeidTerreindeel to dataset urn:li:dataset:(urn:li:dataPlatform:postgres,postgres.public.av_onbegroeidterreindeel_v,PROD)\n",
      "INFO:__main__:Attached term urn:li:glossaryTerm:Areaaldata begrippenkader.onbegroeidTerreindeelKruin to dataset urn:li:dataset:(urn:li:dataPlatform:postgres,postgres.public.av_onbegroeidterreindeelkruin_l,PROD)\n",
      "INFO:__main__:Attached term urn:li:glossaryTerm:Areaaldata begrippenkader.ondersteunendWaterdeel to dataset urn:li:dataset:(urn:li:dataPlatform:postgres,postgres.public.av_ondersteunendwaterdeel_v,PROD)\n",
      "INFO:__main__:Attached term urn:li:glossaryTerm:Areaaldata begrippenkader.ondersteunendWegdeel to dataset urn:li:dataset:(urn:li:dataPlatform:postgres,postgres.public.av_ondersteunendwegdeel_v,PROD)\n",
      "INFO:__main__:Attached term urn:li:glossaryTerm:Areaaldata begrippenkader.ondersteunendWegdeelKruin to dataset urn:li:dataset:(urn:li:dataPlatform:postgres,postgres.public.av_ondersteunendwegdeelkruin_l,PROD)\n",
      "INFO:__main__:Attached term urn:li:glossaryTerm:Areaaldata begrippenkader.overbruggingsdeel to dataset urn:li:dataset:(urn:li:dataPlatform:postgres,postgres.public.av_overbruggingsdeel_v,PROD)\n",
      "INFO:__main__:Attached term urn:li:glossaryTerm:Areaaldata begrippenkader.overigBouwwerk to dataset urn:li:dataset:(urn:li:dataPlatform:postgres,postgres.public.av_overigbouwwerk_v,PROD)\n",
      "INFO:__main__:Attached term urn:li:glossaryTerm:Areaaldata begrippenkader.paalAfbakening to dataset urn:li:dataset:(urn:li:dataPlatform:postgres,postgres.public.av_paalafbakening_p,PROD)\n",
      "INFO:__main__:Attached term urn:li:glossaryTerm:Areaaldata begrippenkader.paalDraagconstructie to dataset urn:li:dataset:(urn:li:dataPlatform:postgres,postgres.public.av_paaldraagconstructie_p,PROD)\n",
      "INFO:__main__:Attached term urn:li:glossaryTerm:Areaaldata begrippenkader.pand to dataset urn:li:dataset:(urn:li:dataPlatform:postgres,postgres.public.av_pand_v,PROD)\n",
      "INFO:__main__:Attached term urn:li:glossaryTerm:Areaaldata begrippenkader.peilbuis to dataset urn:li:dataset:(urn:li:dataPlatform:postgres,postgres.public.av_peilbuis_p,PROD)\n",
      "INFO:__main__:Attached term urn:li:glossaryTerm:Areaaldata begrippenkader.perron to dataset urn:li:dataset:(urn:li:dataPlatform:postgres,postgres.public.av_perron_v,PROD)\n",
      "INFO:__main__:Attached term urn:li:glossaryTerm:Areaaldata begrippenkader.put to dataset urn:li:dataset:(urn:li:dataPlatform:postgres,postgres.public.av_put_p,PROD)\n",
      "INFO:__main__:Attached term urn:li:glossaryTerm:Areaaldata begrippenkader.scheiding to dataset urn:li:dataset:(urn:li:dataPlatform:postgres,postgres.public.av_scheiding_l,PROD)\n",
      "INFO:__main__:Attached term urn:li:glossaryTerm:Areaaldata begrippenkader.scheiding to dataset urn:li:dataset:(urn:li:dataPlatform:postgres,postgres.public.av_scheiding_v,PROD)\n",
      "INFO:__main__:Attached term urn:li:glossaryTerm:Areaaldata begrippenkader.scheidingGeleidewand to dataset urn:li:dataset:(urn:li:dataPlatform:postgres,postgres.public.av_scheidinggeleidewand_l,PROD)\n",
      "INFO:__main__:Attached term urn:li:glossaryTerm:Areaaldata begrippenkader.scheidingGeluidsscherm to dataset urn:li:dataset:(urn:li:dataPlatform:postgres,postgres.public.av_scheidinggeluidsscherm_l,PROD)\n",
      "INFO:__main__:Attached term urn:li:glossaryTerm:Areaaldata begrippenkader.scheidingWater to dataset urn:li:dataset:(urn:li:dataPlatform:postgres,postgres.public.av_scheidingwater_l,PROD)\n",
      "INFO:__main__:Attached term urn:li:glossaryTerm:Areaaldata begrippenkader.sensor to dataset urn:li:dataset:(urn:li:dataPlatform:postgres,postgres.public.av_sensor_l,PROD)\n",
      "INFO:__main__:Attached term urn:li:glossaryTerm:Areaaldata begrippenkader.sensor to dataset urn:li:dataset:(urn:li:dataPlatform:postgres,postgres.public.av_sensor_p,PROD)\n",
      "INFO:__main__:Attached term urn:li:glossaryTerm:Areaaldata begrippenkader.spoorrail to dataset urn:li:dataset:(urn:li:dataPlatform:postgres,postgres.public.av_spoorrail_l,PROD)\n",
      "INFO:__main__:Attached term urn:li:glossaryTerm:Areaaldata begrippenkader.straatmeubilair to dataset urn:li:dataset:(urn:li:dataPlatform:postgres,postgres.public.av_straatmeubilair_p,PROD)\n",
      "INFO:__main__:Attached term urn:li:glossaryTerm:Areaaldata begrippenkader.straatmeubilairAbri to dataset urn:li:dataset:(urn:li:dataPlatform:postgres,postgres.public.av_straatmeubilairabri_p,PROD)\n",
      "INFO:__main__:Attached term urn:li:glossaryTerm:Areaaldata begrippenkader.straatmeubilairLichtpunt to dataset urn:li:dataset:(urn:li:dataPlatform:postgres,postgres.public.av_straatmeubilairlichtpunt_p,PROD)\n",
      "INFO:__main__:Attached term urn:li:glossaryTerm:Areaaldata begrippenkader.telecommunicatiekabel to dataset urn:li:dataset:(urn:li:dataPlatform:postgres,postgres.public.av_telecommunicatiekabel_l,PROD)\n",
      "INFO:__main__:Attached term urn:li:glossaryTerm:Areaaldata begrippenkader.theorHectometrering to dataset urn:li:dataset:(urn:li:dataPlatform:postgres,postgres.public.av_theorhectometrering_p,PROD)\n",
      "INFO:__main__:Attached term urn:li:glossaryTerm:Areaaldata begrippenkader.traject to dataset urn:li:dataset:(urn:li:dataPlatform:postgres,postgres.public.av_traject_v,PROD)\n",
      "INFO:__main__:Attached term urn:li:glossaryTerm:Areaaldata begrippenkader.tunneldeel to dataset urn:li:dataset:(urn:li:dataPlatform:postgres,postgres.public.av_tunneldeel_v,PROD)\n",
      "INFO:__main__:Attached term urn:li:glossaryTerm:Areaaldata begrippenkader.uitleggerPortaal to dataset urn:li:dataset:(urn:li:dataPlatform:postgres,postgres.public.av_uitleggerportaal_l,PROD)\n",
      "INFO:__main__:Attached term urn:li:glossaryTerm:Areaaldata begrippenkader.vaarweg to dataset urn:li:dataset:(urn:li:dataPlatform:postgres,postgres.public.av_vaarweg_l,PROD)\n",
      "INFO:__main__:Attached term urn:li:glossaryTerm:Areaaldata begrippenkader.vaarwegdeeltraject to dataset urn:li:dataset:(urn:li:dataPlatform:postgres,postgres.public.av_vaarwegdeeltraject_v,PROD)\n",
      "INFO:__main__:Attached term urn:li:glossaryTerm:Areaaldata begrippenkader.vaarwegdeeltrajectas to dataset urn:li:dataset:(urn:li:dataPlatform:postgres,postgres.public.av_vaarwegdeeltrajectas_l,PROD)\n",
      "INFO:__main__:Attached term urn:li:glossaryTerm:Areaaldata begrippenkader.vegetatieObject to dataset urn:li:dataset:(urn:li:dataPlatform:postgres,postgres.public.av_vegetatieobject_l,PROD)\n",
      "INFO:__main__:Attached term urn:li:glossaryTerm:Areaaldata begrippenkader.vegetatieObject to dataset urn:li:dataset:(urn:li:dataPlatform:postgres,postgres.public.av_vegetatieobject_p,PROD)\n",
      "INFO:__main__:Attached term urn:li:glossaryTerm:Areaaldata begrippenkader.waterdeel to dataset urn:li:dataset:(urn:li:dataPlatform:postgres,postgres.public.av_waterdeel_v,PROD)\n",
      "INFO:__main__:Attached term urn:li:glossaryTerm:Areaaldata begrippenkader.waterinrichtingselement to dataset urn:li:dataset:(urn:li:dataPlatform:postgres,postgres.public.av_waterinrichtingselement_l,PROD)\n",
      "INFO:__main__:Attached term urn:li:glossaryTerm:Areaaldata begrippenkader.waterinrichtingselement to dataset urn:li:dataset:(urn:li:dataPlatform:postgres,postgres.public.av_waterinrichtingselement_p,PROD)\n",
      "INFO:__main__:Attached term urn:li:glossaryTerm:Areaaldata begrippenkader.waterloop to dataset urn:li:dataset:(urn:li:dataPlatform:postgres,postgres.public.av_waterloop_l,PROD)\n",
      "INFO:__main__:Attached term urn:li:glossaryTerm:Areaaldata begrippenkader.weg to dataset urn:li:dataset:(urn:li:dataPlatform:postgres,postgres.public.av_weg_l,PROD)\n",
      "INFO:__main__:Attached term urn:li:glossaryTerm:Areaaldata begrippenkader.wegdeel to dataset urn:li:dataset:(urn:li:dataPlatform:postgres,postgres.public.av_wegdeel_v,PROD)\n",
      "INFO:__main__:Attached term urn:li:glossaryTerm:Areaaldata begrippenkader.wegdeelKruin to dataset urn:li:dataset:(urn:li:dataPlatform:postgres,postgres.public.av_wegdeelkruin_l,PROD)\n",
      "INFO:__main__:Attached term urn:li:glossaryTerm:Areaaldata begrippenkader.weginrichtingselement to dataset urn:li:dataset:(urn:li:dataPlatform:postgres,postgres.public.av_weginrichtingselement_l,PROD)\n",
      "INFO:__main__:Attached term urn:li:glossaryTerm:Areaaldata begrippenkader.wegvak to dataset urn:li:dataset:(urn:li:dataPlatform:postgres,postgres.public.av_wegvak_v,PROD)\n"
     ]
    }
   ],
   "source": [
    "for ds in datasets:\n",
    "        sub = ds.split(',')[1].split('.')[-1]\n",
    "        if sub in cls_terms:\n",
    "            concept = cls_terms[sub]\n",
    "            event, term_to_add, dataset_urn = add_term(sub, concept.split('/')[-1])\n",
    "        \n",
    "            rest_emitter.emit(event)\n",
    "            log.info(f\"Attached term {term_to_add} to dataset {dataset_urn}\")"
   ]
  },
  {
   "cell_type": "code",
   "execution_count": 8,
   "id": "9d602a21",
   "metadata": {},
   "outputs": [],
   "source": [
    "mapping = []\n",
    "for ds in datasets:\n",
    "        sub = ds.split(',')[1].split('.')[-1]\n",
    "        if sub in cls_terms:\n",
    "            concept = cls_terms[sub]\n",
    "            event, term_to_add, dataset_urn = add_term(sub, concept.split('/')[-1])\n",
    "            mapping.append(event)\n",
    "\n",
    "mapping_df = pd.DataFrame(mapping)\n",
    "\n",
    "# mapping_df.head()\n",
    "mapping_df.to_csv('mappingfile.csv')\n"
   ]
  }
 ],
 "metadata": {
  "kernelspec": {
   "display_name": "Python 3.10.6 ('datahub')",
   "language": "python",
   "name": "python3"
  },
  "language_info": {
   "codemirror_mode": {
    "name": "ipython",
    "version": 3
   },
   "file_extension": ".py",
   "mimetype": "text/x-python",
   "name": "python",
   "nbconvert_exporter": "python",
   "pygments_lexer": "ipython3",
   "version": "3.10.6"
  },
  "vscode": {
   "interpreter": {
    "hash": "66ddb072f268a7f2f41ef30afbe2387327e4adfd06a46ecefc994133de42e0c9"
   }
  }
 },
 "nbformat": 4,
 "nbformat_minor": 5
}
